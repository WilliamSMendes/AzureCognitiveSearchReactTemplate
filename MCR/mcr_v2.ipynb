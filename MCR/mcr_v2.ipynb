{
  "nbformat": 4,
  "nbformat_minor": 0,
  "metadata": {
    "colab": {
      "provenance": [],
      "authorship_tag": "ABX9TyNE8fPJpbWVHJ80ThlJUlXU",
      "include_colab_link": true
    },
    "kernelspec": {
      "name": "python3",
      "display_name": "Python 3"
    },
    "language_info": {
      "name": "python"
    }
  },
  "cells": [
    {
      "cell_type": "markdown",
      "metadata": {
        "id": "view-in-github",
        "colab_type": "text"
      },
      "source": [
        "<a href=\"https://colab.research.google.com/github/WilliamSMendes/AzureCognitiveSearchReactTemplate/blob/main/MCR/mcr_v2.ipynb\" target=\"_parent\"><img src=\"https://colab.research.google.com/assets/colab-badge.svg\" alt=\"Open In Colab\"/></a>"
      ]
    },
    {
      "cell_type": "code",
      "execution_count": null,
      "metadata": {
        "id": "OXi-DUgsY6Ij"
      },
      "outputs": [],
      "source": [
        "!pip install pyMCR"
      ]
    },
    {
      "cell_type": "code",
      "source": [
        "from pymcr.mcr import McrAR\n",
        "import plotly.express as px\n",
        "import pandas as pd\n",
        "import numpy as np"
      ],
      "metadata": {
        "id": "S6sSBWblZCb7"
      },
      "execution_count": null,
      "outputs": []
    },
    {
      "cell_type": "code",
      "source": [
        "#sheet_name PURE\n",
        "spectra_path = \"/content/Dados.xlsx\"\n",
        "\n",
        "#sheet_name MIX\n",
        "mixture_path = \"/content/Dados.xlsx\""
      ],
      "metadata": {
        "id": "alCpsJkYZCTu"
      },
      "execution_count": null,
      "outputs": []
    },
    {
      "cell_type": "code",
      "source": [
        "def verify_extension(spectra_path, mixture_path):\n",
        "\n",
        "  if spectra_path.lower().endswith(\".csv\"):\n",
        "    spectras = pd.read_csv(spectra_path)\n",
        "\n",
        "  elif spectra_path.lower().endswith(\".xlsx\"):\n",
        "    spectras = pd.read_excel(spectra_path, sheet_name=\"PURE\")\n",
        "  \n",
        "  else:\n",
        "    return \"Extension for spectra file is not allowed\"\n",
        "\n",
        "  if mixture_path.lower().endswith(\".csv\"):\n",
        "    mixtures = pd.read_csv(mixture_path)\n",
        "\n",
        "  elif mixture_path.lower().endswith(\".xlsx\"):\n",
        "    mixtures = pd.read_excel(mixture_path, sheet_name=\"MIX\")\n",
        "  \n",
        "  else:\n",
        "    return \"Extension for mixture file is not allowed\"\n",
        "  \n",
        "  return spectras, mixtures"
      ],
      "metadata": {
        "id": "A0E4mV0RZF4b"
      },
      "execution_count": null,
      "outputs": []
    },
    {
      "cell_type": "code",
      "source": [
        "spectras, mixtures = verify_extension(spectra_path, mixture_path)"
      ],
      "metadata": {
        "id": "U79-ncchZF2X"
      },
      "execution_count": null,
      "outputs": []
    },
    {
      "cell_type": "code",
      "source": [
        "spectras"
      ],
      "metadata": {
        "id": "oFR7p16pZFz1"
      },
      "execution_count": null,
      "outputs": []
    },
    {
      "cell_type": "code",
      "source": [
        "mixtures"
      ],
      "metadata": {
        "id": "5g6DH2e8ZKH1"
      },
      "execution_count": null,
      "outputs": []
    },
    {
      "cell_type": "code",
      "source": [
        "def getting_values(spectras, mixtures):"
      ],
      "metadata": {
        "id": "9n8w3lIZZKFX"
      },
      "execution_count": null,
      "outputs": []
    },
    {
      "cell_type": "code",
      "source": [],
      "metadata": {
        "id": "euzedniqZNAL"
      },
      "execution_count": null,
      "outputs": []
    },
    {
      "cell_type": "code",
      "source": [
        "\"\"\"\n",
        "#Getting the pure spectra values\n",
        "  S = data.iloc[0:2,1::]\n",
        "\n",
        "  #Mixture row                                                                    TODO (identificar quantas linhas e fazer para todas)\n",
        "  row = 7 \n",
        "\n",
        "  #Getting the mixtures\n",
        "  D = data.iloc[row:row+1,1::]\n",
        "\n",
        "  #Getting the mixture label\n",
        "  ref = data['amostra'][row]\n",
        "\n",
        "  #Pure spectra 1                                                                 TODO (para cada espectro terá uma linha dessa)\n",
        "  spectra1 = data.iloc[0, 1::].values\n",
        "\n",
        "  #Pure spectra 2\n",
        "  spectra2 = data.iloc[1, 1::].values\n",
        "\n",
        "\"\"\""
      ],
      "metadata": {
        "id": "myeYcvVeZM-A"
      },
      "execution_count": null,
      "outputs": []
    }
  ]
}